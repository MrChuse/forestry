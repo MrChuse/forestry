{
 "cells": [
  {
   "cell_type": "code",
   "execution_count": 34,
   "id": "01293bfe-d375-4bac-941f-bb9e346938b2",
   "metadata": {},
   "outputs": [
    {
     "name": "stdout",
     "output_type": "stream",
     "text": [
      "The mypy_ipython extension is already loaded. To reload it, use:\n",
      "  %reload_ext mypy_ipython\n"
     ]
    }
   ],
   "source": [
    "#%pip install -r requirements.txt\n",
    "from IPython.display import clear_output\n",
    "clear_output()\n",
    "from enum import Enum, auto\n",
    "from dataclasses import dataclass, fields\n",
    "import typing\n",
    "from typing import Any, Tuple\n",
    "import random\n",
    "from pprint import pprint\n",
    "%load_ext mypy_ipython"
   ]
  },
  {
   "cell_type": "code",
   "execution_count": 2,
   "id": "efcae67c-362e-48cb-90b9-06adae982bed",
   "metadata": {},
   "outputs": [],
   "source": [
    "def weighted_if(weight, out1, out2):\n",
    "    return out1 if random.random() < weight else out2"
   ]
  },
  {
   "cell_type": "code",
   "execution_count": 4,
   "id": "bf49e826-015b-4088-9fd2-e4d5e33febb0",
   "metadata": {},
   "outputs": [],
   "source": [
    "@dataclass(frozen=True, eq=True)\n",
    "class Allele:\n",
    "    value: Any\n",
    "    dominant: bool"
   ]
  },
  {
   "cell_type": "code",
   "execution_count": 35,
   "id": "b855873a-4c8e-4355-96e2-93c0898d1bc3",
   "metadata": {},
   "outputs": [
    {
     "name": "stdout",
     "output_type": "stream",
     "text": [
      "{(Allele(value=<BeeSpecies.FOREST: 1>, dominant=True), Allele(value=<BeeSpecies.MEADOWS: 2>, dominant=True)): (Allele(value=<BeeSpecies.COMMON: 3>, dominant=True),\n",
      "                                                                                                               1),\n",
      " (Allele(value=<BeeSpecies.MEADOWS: 2>, dominant=True), Allele(value=<BeeSpecies.COMMON: 3>, dominant=True)): (Allele(value=<BeeSpecies.CULTIVATED: 4>, dominant=True),\n",
      "                                                                                                               1),\n",
      " (Allele(value=<BeeSpecies.COMMON: 3>, dominant=True), Allele(value=<BeeSpecies.FOREST: 1>, dominant=True)): (Allele(value=<BeeSpecies.CULTIVATED: 4>, dominant=True),\n",
      "                                                                                                              1),\n",
      " (Allele(value=<BeeSpecies.FOREST: 1>, dominant=True), Allele(value=<BeeSpecies.COMMON: 3>, dominant=True)): (Allele(value=<BeeSpecies.CULTIVATED: 4>, dominant=True),\n",
      "                                                                                                              1),\n",
      " (Allele(value=<BeeSpecies.MEADOWS: 2>, dominant=True), Allele(value=<BeeSpecies.FOREST: 1>, dominant=True)): (Allele(value=<BeeSpecies.COMMON: 3>, dominant=True),\n",
      "                                                                                                               1),\n",
      " (Allele(value=<BeeSpecies.COMMON: 3>, dominant=True), Allele(value=<BeeSpecies.CULTIVATED: 4>, dominant=True)): (Allele(value=<BeeSpecies.MAJESTIC: 5>, dominant=True),\n",
      "                                                                                                                  1),\n",
      " (Allele(value=<BeeSpecies.COMMON: 3>, dominant=True), Allele(value=<BeeSpecies.MEADOWS: 2>, dominant=True)): (Allele(value=<BeeSpecies.CULTIVATED: 4>, dominant=True),\n",
      "                                                                                                               1),\n",
      " (Allele(value=<BeeSpecies.CULTIVATED: 4>, dominant=True), Allele(value=<BeeSpecies.COMMON: 3>, dominant=True)): (Allele(value=<BeeSpecies.MAJESTIC: 5>, dominant=True),\n",
      "                                                                                                                  1)}\n"
     ]
    }
   ],
   "source": [
    "class BeeGender(Enum):\n",
    "    DRONE = auto()\n",
    "    PRINCESS = auto()\n",
    "    QUEEN = auto()\n",
    "\n",
    "class BeeSpecies(Enum):\n",
    "    FOREST      = auto()\n",
    "    MEADOWS     = auto()\n",
    "    COMMON      = auto()\n",
    "    CULTIVATED  = auto()\n",
    "    MAJESTIC    = auto()\n",
    "    NOBLE       = auto()\n",
    "    IMPERIAL    = auto()\n",
    "    DILIGENT    = auto()\n",
    "    UNWEARY     = auto()\n",
    "    INDUSTRIOUS = auto()\n",
    "    # COMMON    = auto()\n",
    "    # COMMON    = auto()\n",
    "    # COMMON    = auto()\n",
    "    # COMMON    = auto()\n",
    "    \n",
    "bs = BeeSpecies\n",
    "mutations = {\n",
    "    (Allele(bs.FOREST,     True), Allele(bs.MEADOWS, True)): (Allele(bs.COMMON,     True), 1),\n",
    "    (Allele(bs.FOREST,     True), Allele(bs.COMMON,  True)): (Allele(bs.CULTIVATED, True), 1),\n",
    "    (Allele(bs.COMMON,     True), Allele(bs.MEADOWS, True)): (Allele(bs.CULTIVATED, True), 1),\n",
    "    (Allele(bs.CULTIVATED, True), Allele(bs.COMMON,  True)): (Allele(bs.MAJESTIC,   True), 1),\n",
    "}\n",
    "mutations.update({ (key[1], key[0]) : mutations[key] for key in mutations})\n",
    "pprint(mutations)\n",
    "del bs"
   ]
  },
  {
   "cell_type": "code",
   "execution_count": 18,
   "id": "5a321929-3dde-4b39-abe9-0311232e64eb",
   "metadata": {},
   "outputs": [],
   "source": [
    "Gene = Tuple[Allele, Allele]\n",
    "\n",
    "@dataclass\n",
    "class Genes:\n",
    "    species: Gene"
   ]
  },
  {
   "cell_type": "code",
   "execution_count": 24,
   "id": "0e815944-94c4-4622-8aea-4e2596958846",
   "metadata": {
    "tags": []
   },
   "outputs": [],
   "source": [
    "class Bee:\n",
    "    def __init__(self, gender: BeeGender, genes: Genes):\n",
    "        self.gender = gender\n",
    "        self.genes = genes\n",
    "    \n",
    "    @staticmethod\n",
    "    def mutate(allele1, allele2):\n",
    "        mut = mutations.get((allele1, allele2))\n",
    "        if mut is not None and random.random() < mut[1]: # mutation possible and with probability [1]\n",
    "            return mut[0] # gene from mutation\n",
    "        return weighted_if(0.5, allele1, allele2) # random gene if not mutated\n",
    "    \n",
    "    @staticmethod\n",
    "    def crossingover(genes1, genes2):\n",
    "        l = []\n",
    "        genes1_dict = vars(genes1)\n",
    "        genes2_dict = vars(genes2)\n",
    "        for key1, key2 in zip(genes1_dict, genes2_dict):\n",
    "            g1 = genes1_dict[key1]\n",
    "            g2 = genes2_dict[key2]\n",
    "            \n",
    "            allele11 = weighted_if(0.5, *g1)\n",
    "            allele12 = weighted_if(0.5, *g2)\n",
    "            allele21 = weighted_if(0.5, *g1)\n",
    "            allele22 = weighted_if(0.5, *g2)\n",
    "            \n",
    "            allele1 = Bee.mutate(allele11, allele12)\n",
    "            allele2 = Bee.mutate(allele21, allele22)\n",
    "            \n",
    "            l.append((allele1, allele2))\n",
    "        return Genes(*l)\n",
    "\n",
    "class Queen(Bee):\n",
    "    def __init__(self, genes):\n",
    "        super().__init__(BeeGender.QUEEN, genes)\n",
    "    \n",
    "    def die(self):\n",
    "        return [\n",
    "            Princess(self.genes),\n",
    "            Drone(self.genes),\n",
    "            Drone(self.genes)\n",
    "        ]\n",
    "    \n",
    "class Princess(Bee):\n",
    "    def __init__(self, genes):\n",
    "        super().__init__(BeeGender.PRINCESS, genes)\n",
    "    \n",
    "    def mate(self, other: 'Drone') -> Queen:\n",
    "        g = self.crossingover(self.genes, other.genes)\n",
    "        return Queen(g)\n",
    "\n",
    "class Drone(Bee):\n",
    "    def __init__(self, genes):\n",
    "        super().__init__(BeeGender.DRONE, genes)"
   ]
  },
  {
   "cell_type": "code",
   "execution_count": 29,
   "id": "7516fe3f-415b-48a0-a856-ba63efc0801b",
   "metadata": {},
   "outputs": [
    {
     "name": "stdout",
     "output_type": "stream",
     "text": [
      "Genes(species=(Allele(value=<BeeSpecies.COMMON: 3>, dominant=True), Allele(value=<BeeSpecies.COMMON: 3>, dominant=True)))\n"
     ]
    },
    {
     "data": {
      "text/plain": [
       "Genes(species=(Allele(value=<BeeSpecies.MAJESTIC: 5>, dominant=True), Allele(value=<BeeSpecies.MAJESTIC: 5>, dominant=True)))"
      ]
     },
     "execution_count": 29,
     "metadata": {},
     "output_type": "execute_result"
    }
   ],
   "source": [
    "pf = Princess(Genes((Allele(BeeSpecies.FOREST, True), Allele(BeeSpecies.FOREST, True))))\n",
    "dm = Drone(Genes((Allele(BeeSpecies.MEADOWS, True), Allele(BeeSpecies.MEADOWS, True))))\n",
    "qc = pf.mate(dm)\n",
    "pc, dc, dc2 = qc.die()\n",
    "qcu = pc.mate(dm)\n",
    "pcu, dcu, dcu2 = qcu.die()\n",
    "pcu.mate(pc).genes"
   ]
  },
  {
   "cell_type": "code",
   "execution_count": 30,
   "id": "55eb1ffe-8ea2-4367-a017-eeb66cc1a14a",
   "metadata": {},
   "outputs": [
    {
     "name": "stdout",
     "output_type": "stream",
     "text": [
      "    print(qc.genes)\n",
      "error: Cannot determine type of \"genes\"\n",
      "    print(qc.genes)\n",
      "error: Cannot determine type of \"genes\"\n",
      "    print(qc.genes)\n",
      "error: Cannot determine type of \"genes\"\n",
      "    print(qc.genes)\n",
      "error: Cannot determine type of \"genes\"\n",
      "    print(qc.genes)\n",
      "error: Cannot determine type of \"genes\"\n",
      "    print(qc.genes)\n",
      "error: Cannot determine type of \"genes\"\n",
      "Found 6 errors in 1 file (checked 1 source file)\n"
     ]
    },
    {
     "name": "stderr",
     "output_type": "stream",
     "text": [
      "Type checking failed\n"
     ]
    }
   ],
   "source": [
    "%mypy"
   ]
  },
  {
   "cell_type": "code",
   "execution_count": null,
   "id": "63d83dae-d5f9-4cbb-9d21-0f313f825e9d",
   "metadata": {},
   "outputs": [],
   "source": []
  },
  {
   "cell_type": "code",
   "execution_count": null,
   "id": "f6212a56-be34-4d8e-b9ec-ef455c789d13",
   "metadata": {},
   "outputs": [],
   "source": []
  }
 ],
 "metadata": {
  "kernelspec": {
   "display_name": "Python 3 (ipykernel)",
   "language": "python",
   "name": "python3"
  },
  "language_info": {
   "codemirror_mode": {
    "name": "ipython",
    "version": 3
   },
   "file_extension": ".py",
   "mimetype": "text/x-python",
   "name": "python",
   "nbconvert_exporter": "python",
   "pygments_lexer": "ipython3",
   "version": "3.8.6"
  }
 },
 "nbformat": 4,
 "nbformat_minor": 5
}
