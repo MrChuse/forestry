{
 "cells": [
  {
   "cell_type": "code",
   "execution_count": null,
   "id": "dfcae850-acde-45f6-8b09-0d8b6539583e",
   "metadata": {},
   "outputs": [],
   "source": [
    "%run forestry.ipynb\n",
    "cli.text.value = 'q'\n",
    "cli.register_command(cli.text)"
   ]
  },
  {
   "cell_type": "code",
   "execution_count": null,
   "id": "865c1390-b8c7-427b-af74-178fb2e80ab8",
   "metadata": {},
   "outputs": [],
   "source": [
    "pf = Princess(Genes(\n",
    "        (BeeSpecies.FOREST, BeeSpecies.FOREST),\n",
    "        (BeeFertility(2), BeeFertility(2))\n",
    "     ))\n",
    "dm = Drone(Genes(\n",
    "        (BeeSpecies.MEADOWS, BeeSpecies.MEADOWS),\n",
    "        (BeeFertility(2), BeeFertility(2))\n",
    "))"
   ]
  },
  {
   "cell_type": "code",
   "execution_count": null,
   "id": "7a30059d-6e58-4fa0-ae95-194d08d19018",
   "metadata": {},
   "outputs": [],
   "source": [
    "random.seed(2)\n",
    "verbose = False\n",
    "def printv(*args, **kwargs):\n",
    "    global verbose\n",
    "    if verbose:\n",
    "        print(*args, **kwargs)\n",
    "\n",
    "printv(pf, dm)\n",
    "qc = pf.mate(dm)\n",
    "pc, dc, dc2 = qc.die()\n",
    "_, dc, dc2 = qc.die()\n",
    "pc.inspect()\n",
    "dc.inspect()\n",
    "printv(pc)\n",
    "printv(dc)\n",
    "\n",
    "qc = pc.mate(dc)\n",
    "pc, dc, dc2 = qc.die()\n",
    "for i in range(3):\n",
    "    _, _, dc = qc.die()\n",
    "pc.inspect()\n",
    "dc.inspect()\n",
    "printv(pc)\n",
    "printv(dc)\n",
    "assert pc.genes == Genes(species=(BeeSpecies.COMMON, BeeSpecies.COMMON), fertility=(BeeFertility(2), BeeFertility(2)))\n",
    "\n",
    "random.seed(40)\n",
    "qcu = pc.mate(dm)\n",
    "pcu, dcu, dcu2 = qcu.die()\n",
    "pcu.inspect()\n",
    "dcu.inspect()\n",
    "qcu = pcu.mate(dcu)\n",
    "pcu, _, dcu = qcu.die()\n",
    "pcu.inspect()\n",
    "dcu.inspect()\n",
    "printv(pcu)\n",
    "printv(dcu)\n",
    "assert pcu.genes == Genes(species=(BeeSpecies.CULTIVATED, BeeSpecies.CULTIVATED), fertility=(BeeFertility(2), BeeFertility(2)))\n",
    "\n",
    "random.seed(57)\n",
    "qn = pcu.mate(dc)\n",
    "pn, dn, _ = qn.die()\n",
    "pn.inspect()\n",
    "dn.inspect()\n",
    "printv(pn)\n",
    "printv(dn)\n",
    "\n",
    "random.seed(17)\n",
    "qn = pn.mate(dn)\n",
    "pn, _, dn = qn.die()\n",
    "pn.inspect()\n",
    "dn.inspect()\n",
    "printv(pn)\n",
    "printv(dn)\n",
    "assert pn.genes == Genes(species=(BeeSpecies.NOBLE, BeeSpecies.NOBLE), fertility=(BeeFertility(2), BeeFertility(2)))"
   ]
  },
  {
   "cell_type": "code",
   "execution_count": null,
   "id": "5433b50e-e999-4f8e-a1c3-7ae833f7800a",
   "metadata": {},
   "outputs": [],
   "source": [
    "from collections import Counter\n",
    "l = []\n",
    "for i in range(10000):\n",
    "    _, dc, dc2 = pf.mate(dm).die()\n",
    "    dc.inspect()\n",
    "    dc2.inspect()\n",
    "    l.append(dc)\n",
    "    l.append(dc2)\n",
    "c = Counter(l)\n",
    "s = sum(c.values())\n",
    "for key in c:\n",
    "    print(*key.genes.species, c[key] / s)"
   ]
  },
  {
   "cell_type": "code",
   "execution_count": null,
   "id": "89802793-62f3-43a0-bdfc-30caba263649",
   "metadata": {},
   "outputs": [],
   "source": [
    "from collections import Counter\n",
    "l = []\n",
    "princess = Princess(Genes(\n",
    "        (BeeSpecies.COMMON, BeeSpecies.CULTIVATED),\n",
    "        (BeeFertility(2), BeeFertility(2))\n",
    "     ))\n",
    "drone = Drone(Genes(\n",
    "        (BeeSpecies.MEADOWS, BeeSpecies.MEADOWS),\n",
    "        (BeeFertility(2), BeeFertility(2))\n",
    "))\n",
    "for i in range(10000):\n",
    "    _, dc, dc2 = princess.mate(drone).die()\n",
    "    dc.inspect()\n",
    "    dc2.inspect()\n",
    "    l.append(dc)\n",
    "    l.append(dc2)\n",
    "c = Counter(l)\n",
    "s = sum(c.values())\n",
    "for key in c:\n",
    "    print(*key.genes.species, c[key] / s)"
   ]
  },
  {
   "cell_type": "code",
   "execution_count": null,
   "id": "167a3737-75a2-468f-a259-1f728a5666d9",
   "metadata": {},
   "outputs": [],
   "source": [
    "inv = Inventory(100)\n",
    "inv.place_bees([pf, dm])\n",
    "inv.render()\n",
    "inv.mate(0, 1)\n",
    "inv.render()\n",
    "inv.place_bees(inv[0].take().die(), 0)\n",
    "inv.render()"
   ]
  },
  {
   "cell_type": "code",
   "execution_count": null,
   "id": "f45a9c94-fd02-494e-a32d-67076df8286e",
   "metadata": {},
   "outputs": [],
   "source": [
    "r = Resources(honey=0)\n",
    "api = Apiary(add_resources=r.add_resources)\n",
    "api.put_princess(pf)\n",
    "print(api)\n",
    "api.put_drone(dm)\n",
    "print(api)\n",
    "api.update()\n",
    "print(api)\n",
    "api.update()\n",
    "api.update()\n",
    "print(api)\n",
    "api.update()\n",
    "print(api)\n",
    "print(r)"
   ]
  },
  {
   "cell_type": "code",
   "execution_count": null,
   "id": "8b14d4aa-87eb-4059-8e99-f6318a8fd32f",
   "metadata": {},
   "outputs": [],
   "source": []
  }
 ],
 "metadata": {
  "kernelspec": {
   "display_name": "Python 3 (ipykernel)",
   "language": "python",
   "name": "python3"
  },
  "language_info": {
   "codemirror_mode": {
    "name": "ipython",
    "version": 3
   },
   "file_extension": ".py",
   "mimetype": "text/x-python",
   "name": "python",
   "nbconvert_exporter": "python",
   "pygments_lexer": "ipython3",
   "version": "3.8.6"
  }
 },
 "nbformat": 4,
 "nbformat_minor": 5
}
